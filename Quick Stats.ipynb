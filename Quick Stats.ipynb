{
 "cells": [
  {
   "cell_type": "code",
   "execution_count": 14,
   "metadata": {},
   "outputs": [
    {
     "name": "stdout",
     "output_type": "stream",
     "text": [
      "['\\ufefftrip_id', 'start_time', 'end_time', 'bikeid', 'tripduration', 'from_station_id', 'from_station_name', 'to_station_id', 'to_station_name', 'usertype', 'gender', 'birthyear']\n"
     ]
    }
   ],
   "source": [
    "import numpy as np\n",
    "import matplotlib\n",
    "import matplotlib.pyplot as plt\n",
    "from util import readdict\n",
    "\n",
    "directory = \"Divvy_Trips_2017_Q3Q4/\"\n",
    "first_data = readdict(directory + \"first300.csv\")"
   ]
  },
  {
   "cell_type": "code",
   "execution_count": null,
   "metadata": {},
   "outputs": [],
   "source": [
    "durations = [a['tripduration'] for a in first_data]\n",
    "plt.hist(durations, bins=20, density=1)\n",
    "plt.show()"
   ]
  },
  {
   "cell_type": "code",
   "execution_count": null,
   "metadata": {},
   "outputs": [],
   "source": [
    "plt.hist(durations, bins=5, density=1)\n",
    "plt.show()"
   ]
  },
  {
   "cell_type": "code",
   "execution_count": null,
   "metadata": {},
   "outputs": [],
   "source": [
    "import matplotlib\n",
    "import matplotlib.pyplot as plt\n",
    "\n",
    "num_bins = 50\n",
    "\n",
    "# the histogram of the data\n",
    "n, bins, patches = plt.hist(durations, 20, normed=1, facecolor='green', alpha=0.75)\n",
    "plt.xticks(bins)\n",
    "# Tweak spacing to prevent clipping of ylabel\n",
    "fig.tight_layout()\n",
    "plt.show()"
   ]
  },
  {
   "cell_type": "code",
   "execution_count": 41,
   "metadata": {},
   "outputs": [
    {
     "name": "stdout",
     "output_type": "stream",
     "text": [
      "{'\\ufefftrip_id': '17536701', 'start_time': '12/31/17 23:58', 'end_time': '1/1/18 0:03', 'bikeid': '3304', 'tripduration': '284', 'from_station_id': '159', 'from_station_name': 'Claremont Ave & Hirsch St', 'to_station_id': '69', 'to_station_name': 'Damen Ave & Pierce Ave', 'usertype': 'Subscriber', 'gender': 'Male', 'birthyear': '1988'}\n"
     ]
    }
   ],
   "source": [
    "print(first_data[0])\n",
    "birthyears = [int(a['bikeid']) for a in first_data if a['tripduration'] != '']"
   ]
  },
  {
   "cell_type": "code",
   "execution_count": 42,
   "metadata": {},
   "outputs": [
    {
     "data": {
      "image/png": "[encoded data removed]",
      "text/plain": [
       "<matplotlib.figure.Figure at 0x114b6b4e0>"
      ]
     },
     "metadata": {},
     "output_type": "display_data"
    }
   ],
   "source": [
    "# n, bins, patches = plt.hist(birthyears, 5, normed=1, facecolor='green', alpha=0.75)\n",
    "# Tweak spacing to prevent clipping of ylabel\n",
    "plt.hist(birthyears, bins=20)\n",
    "plt.show()"
   ]
  },
  {
   "cell_type": "code",
   "execution_count": null,
   "metadata": {
    "collapsed": true
   },
   "outputs": [],
   "source": []
  }
 ],
 "metadata": {
  "kernelspec": {
   "display_name": "Python 3",
   "language": "python",
   "name": "python3"
  },
  "language_info": {
   "codemirror_mode": {
    "name": "ipython",
    "version": 3
   },
   "file_extension": ".py",
   "mimetype": "text/x-python",
   "name": "python",
   "nbconvert_exporter": "python",
   "pygments_lexer": "ipython3",
   "version": "3.6.3"
  }
 },
 "nbformat": 4,
 "nbformat_minor": 2
}
